{
 "cells": [
  {
   "cell_type": "markdown",
   "id": "bc158dcd",
   "metadata": {
    "scrolled": true
   },
   "source": [
    "# WEB SCRAPPING PROJECT"
   ]
  },
  {
   "cell_type": "code",
   "execution_count": 1,
   "id": "f1a958bd",
   "metadata": {},
   "outputs": [],
   "source": [
    "from bs4 import BeautifulSoup\n",
    "import requests\n",
    "from time import sleep\n",
    "import time\n",
    "from pushbullet import Pushbullet"
   ]
  },
  {
   "cell_type": "code",
   "execution_count": 7,
   "id": "64ad226b",
   "metadata": {
    "scrolled": true
   },
   "outputs": [],
   "source": [
    "def flip_tracking(u):\n",
    "    url=u\n",
    "    r=requests.get(url)\n",
    "    htmlContent=r.content\n",
    "    print(r.raise_for_status) \n",
    "    soup=BeautifulSoup(htmlContent,'html.parser')\n",
    "    \n",
    "    p1=soup.find('div',class_=\"_30jeq3 _16Jk6d\").text.strip('₹')\n",
    "    p2=int(p1.replace(',',''))\n",
    "    \n",
    "    return(p2)\n"
   ]
  },
  {
   "cell_type": "code",
   "execution_count": 10,
   "id": "5c5f2cfe",
   "metadata": {
    "scrolled": true
   },
   "outputs": [
    {
     "name": "stdout",
     "output_type": "stream",
     "text": [
      "<bound method Response.raise_for_status of <Response [200]>>\n",
      "2999\n"
     ]
    }
   ],
   "source": [
    "web=\"https://www.flipkart.com/boat-rockerz-551-anc-hybrid-anc-100-hrs-playback-40mm-drivers-asap-charge-bluetooth-headset/p/itmbd436ac6c4964?pid=ACCGZYG5EDAVXZQ8&lid=LSTACCGZYG5EDAVXZQ89IQVU0&marketplace=FLIPKART&q=boat+rockerz+551+anc&store=0pm%2Ffcn%2Fgc3%2Fka8&spotlightTagId=FkPickId_0pm%2Ffcn%2Fgc3%2Fka8&srno=s_1_1&otracker=AS_QueryStore_OrganicAutoSuggest_2_15_na_na_ps&otracker1=AS_QueryStore_OrganicAutoSuggest_2_15_na_na_ps&fm=search-autosuggest&iid=430198e1-11cd-4e8a-a111-68c5e48668e4.ACCGZYG5EDAVXZQ8.SEARCH&ppt=sp&ppn=sp&ssid=58ppqevbvk0000001691074942975&qH=ea6b3bca0cba8b6b\"\n",
    "price=flip_tracking(web)\n",
    "\n",
    "#h=int(time.strftime(\"%H\"))\n",
    "#m=int(time.strftime(\"%M\"))\n",
    "print(price)\n",
    "if(price<500):\n",
    "    API_KEY=\"o.ocsvFPtkFiRYk87ne1k2dWzqSru0nYko\"\n",
    "    pb=Pushbullet(API_KEY)\n",
    "    push=pb.push_note(\"Headphone's price:\", str(price))\n"
   ]
  },
  {
   "cell_type": "code",
   "execution_count": null,
   "id": "88ccf9e7",
   "metadata": {},
   "outputs": [],
   "source": []
  },
  {
   "cell_type": "code",
   "execution_count": 63,
   "id": "adced684",
   "metadata": {
    "scrolled": true
   },
   "outputs": [],
   "source": [
    "        "
   ]
  },
  {
   "cell_type": "code",
   "execution_count": 42,
   "id": "f99b632e",
   "metadata": {},
   "outputs": [],
   "source": [
    "\n"
   ]
  },
  {
   "cell_type": "code",
   "execution_count": 43,
   "id": "d982e83e",
   "metadata": {
    "scrolled": true
   },
   "outputs": [],
   "source": []
  },
  {
   "cell_type": "code",
   "execution_count": null,
   "id": "5afa24b0",
   "metadata": {},
   "outputs": [],
   "source": []
  },
  {
   "cell_type": "code",
   "execution_count": 7,
   "id": "9523e835",
   "metadata": {},
   "outputs": [],
   "source": []
  },
  {
   "cell_type": "code",
   "execution_count": 9,
   "id": "ce288526",
   "metadata": {},
   "outputs": [],
   "source": []
  },
  {
   "cell_type": "code",
   "execution_count": null,
   "id": "ee386b68",
   "metadata": {},
   "outputs": [],
   "source": []
  }
 ],
 "metadata": {
  "kernelspec": {
   "display_name": "Python 3 (ipykernel)",
   "language": "python",
   "name": "python3"
  },
  "language_info": {
   "codemirror_mode": {
    "name": "ipython",
    "version": 3
   },
   "file_extension": ".py",
   "mimetype": "text/x-python",
   "name": "python",
   "nbconvert_exporter": "python",
   "pygments_lexer": "ipython3",
   "version": "3.9.15"
  }
 },
 "nbformat": 4,
 "nbformat_minor": 5
}
